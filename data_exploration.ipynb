{
 "cells": [
  {
   "cell_type": "markdown",
   "metadata": {
    "collapsed": true
   },
   "source": [
    "# Data Exploration\n",
    "Exploring the Titanic dataset.\n",
    "Import the dataset first:"
   ]
  },
  {
   "cell_type": "code",
   "execution_count": 14,
   "metadata": {
    "collapsed": false,
    "scrolled": false
   },
   "outputs": [
    {
     "name": "stdout",
     "output_type": "stream",
     "text": [
      "   PassengerId  Survived  Pclass  \\\n",
      "0            1         0       3   \n",
      "1            2         1       1   \n",
      "2            3         1       3   \n",
      "3            4         1       1   \n",
      "4            5         0       3   \n",
      "\n",
      "                                                Name     Sex  Age  SibSp  \\\n",
      "0                            Braund, Mr. Owen Harris    male   22      1   \n",
      "1  Cumings, Mrs. John Bradley (Florence Briggs Th...  female   38      1   \n",
      "2                             Heikkinen, Miss. Laina  female   26      0   \n",
      "3       Futrelle, Mrs. Jacques Heath (Lily May Peel)  female   35      1   \n",
      "4                           Allen, Mr. William Henry    male   35      0   \n",
      "\n",
      "   Parch            Ticket     Fare Cabin Embarked  \n",
      "0      0         A/5 21171   7.2500   NaN        S  \n",
      "1      0          PC 17599  71.2833   C85        C  \n",
      "2      0  STON/O2. 3101282   7.9250   NaN        S  \n",
      "3      0            113803  53.1000  C123        S  \n",
      "4      0            373450   8.0500   NaN        S  \n",
      "       PassengerId    Survived      Pclass         Age       SibSp  \\\n",
      "count   891.000000  891.000000  891.000000  714.000000  891.000000   \n",
      "mean    446.000000    0.383838    2.308642   29.699118    0.523008   \n",
      "std     257.353842    0.486592    0.836071   14.526497    1.102743   \n",
      "min       1.000000    0.000000    1.000000    0.420000    0.000000   \n",
      "25%     223.500000    0.000000    2.000000   20.125000    0.000000   \n",
      "50%     446.000000    0.000000    3.000000   28.000000    0.000000   \n",
      "75%     668.500000    1.000000    3.000000   38.000000    1.000000   \n",
      "max     891.000000    1.000000    3.000000   80.000000    8.000000   \n",
      "\n",
      "            Parch        Fare  \n",
      "count  891.000000  891.000000  \n",
      "mean     0.381594   32.204208  \n",
      "std      0.806057   49.693429  \n",
      "min      0.000000    0.000000  \n",
      "25%      0.000000    7.910400  \n",
      "50%      0.000000   14.454200  \n",
      "75%      0.000000   31.000000  \n",
      "max      6.000000  512.329200  \n"
     ]
    },
    {
     "name": "stderr",
     "output_type": "stream",
     "text": [
      "/home/jsutker/anaconda2/lib/python2.7/site-packages/matplotlib/font_manager.py:273: UserWarning: Matplotlib is building the font cache using fc-list. This may take a moment.\n",
      "  warnings.warn('Matplotlib is building the font cache using fc-list. This may take a moment.')\n"
     ]
    }
   ],
   "source": [
    "import pandas as pd\n",
    "import matplotlib.pyplot as plt\n",
    "data = pd.read_csv('./datasets/train.csv')\n",
    "print data.head()\n",
    "print data.describe()"
   ]
  },
  {
   "cell_type": "markdown",
   "metadata": {},
   "source": [
    "Now try some stuff"
   ]
  },
  {
   "cell_type": "markdown",
   "metadata": {},
   "source": [
    "This looks at the average age of survival in each class. Also, when in first class, it seems that those who survived paid a significantly higher fare."
   ]
  },
  {
   "cell_type": "code",
   "execution_count": 3,
   "metadata": {
    "collapsed": false
   },
   "outputs": [
    {
     "data": {
      "text/html": [
       "<div>\n",
       "<table border=\"1\" class=\"dataframe\">\n",
       "  <thead>\n",
       "    <tr style=\"text-align: right;\">\n",
       "      <th></th>\n",
       "      <th></th>\n",
       "      <th>PassengerId</th>\n",
       "      <th>Age</th>\n",
       "      <th>SibSp</th>\n",
       "      <th>Parch</th>\n",
       "      <th>Fare</th>\n",
       "    </tr>\n",
       "    <tr>\n",
       "      <th>Survived</th>\n",
       "      <th>Pclass</th>\n",
       "      <th></th>\n",
       "      <th></th>\n",
       "      <th></th>\n",
       "      <th></th>\n",
       "      <th></th>\n",
       "    </tr>\n",
       "  </thead>\n",
       "  <tbody>\n",
       "    <tr>\n",
       "      <th rowspan=\"3\" valign=\"top\">0</th>\n",
       "      <th>1</th>\n",
       "      <td>410.300000</td>\n",
       "      <td>43.695312</td>\n",
       "      <td>0.287500</td>\n",
       "      <td>0.300000</td>\n",
       "      <td>64.684008</td>\n",
       "    </tr>\n",
       "    <tr>\n",
       "      <th>2</th>\n",
       "      <td>452.123711</td>\n",
       "      <td>33.544444</td>\n",
       "      <td>0.319588</td>\n",
       "      <td>0.144330</td>\n",
       "      <td>19.412328</td>\n",
       "    </tr>\n",
       "    <tr>\n",
       "      <th>3</th>\n",
       "      <td>453.580645</td>\n",
       "      <td>26.555556</td>\n",
       "      <td>0.672043</td>\n",
       "      <td>0.384409</td>\n",
       "      <td>13.669364</td>\n",
       "    </tr>\n",
       "    <tr>\n",
       "      <th rowspan=\"3\" valign=\"top\">1</th>\n",
       "      <th>1</th>\n",
       "      <td>491.772059</td>\n",
       "      <td>35.368197</td>\n",
       "      <td>0.492647</td>\n",
       "      <td>0.389706</td>\n",
       "      <td>95.608029</td>\n",
       "    </tr>\n",
       "    <tr>\n",
       "      <th>2</th>\n",
       "      <td>439.080460</td>\n",
       "      <td>25.901566</td>\n",
       "      <td>0.494253</td>\n",
       "      <td>0.643678</td>\n",
       "      <td>22.055700</td>\n",
       "    </tr>\n",
       "    <tr>\n",
       "      <th>3</th>\n",
       "      <td>394.058824</td>\n",
       "      <td>20.646118</td>\n",
       "      <td>0.436975</td>\n",
       "      <td>0.420168</td>\n",
       "      <td>13.694887</td>\n",
       "    </tr>\n",
       "  </tbody>\n",
       "</table>\n",
       "</div>"
      ],
      "text/plain": [
       "                 PassengerId        Age     SibSp     Parch       Fare\n",
       "Survived Pclass                                                       \n",
       "0        1        410.300000  43.695312  0.287500  0.300000  64.684008\n",
       "         2        452.123711  33.544444  0.319588  0.144330  19.412328\n",
       "         3        453.580645  26.555556  0.672043  0.384409  13.669364\n",
       "1        1        491.772059  35.368197  0.492647  0.389706  95.608029\n",
       "         2        439.080460  25.901566  0.494253  0.643678  22.055700\n",
       "         3        394.058824  20.646118  0.436975  0.420168  13.694887"
      ]
     },
     "execution_count": 3,
     "metadata": {},
     "output_type": "execute_result"
    }
   ],
   "source": [
    "data.groupby(['Survived','Pclass']).mean()"
   ]
  },
  {
   "cell_type": "markdown",
   "metadata": {},
   "source": [
    "Let's take a closer look at the survivors from second class and see the average ages of the different genders. Judging by the means, it looks like the women and children were indeed the most likely to survive, at least in the second class."
   ]
  },
  {
   "cell_type": "code",
   "execution_count": 13,
   "metadata": {
    "collapsed": false
   },
   "outputs": [
    {
     "name": "stdout",
     "output_type": "stream",
     "text": [
      "16.022\n",
      "28.0808823529\n"
     ]
    }
   ],
   "source": [
    "survived = data[data.Survived==1]\n",
    "print survived.Age[(survived.Sex=='male') & (survived.Pclass==2)].mean()\n",
    "print survived.Age[(survived.Sex=='female') & (survived.Pclass==2)].mean()"
   ]
  },
  {
   "cell_type": "markdown",
   "metadata": {},
   "source": [
    "This just explores if the port that passengers embarked from affected survival rates among different demagraphics. If a passenger was from Cherbourg or Southampton, younger men and older women were more likely to survive, but younger people from Queenstown were more likely to survive than their older counterparts regardless of gender."
   ]
  },
  {
   "cell_type": "code",
   "execution_count": 17,
   "metadata": {
    "collapsed": false
   },
   "outputs": [
    {
     "data": {
      "text/html": [
       "<div>\n",
       "<table border=\"1\" class=\"dataframe\">\n",
       "  <thead>\n",
       "    <tr style=\"text-align: right;\">\n",
       "      <th></th>\n",
       "      <th></th>\n",
       "      <th></th>\n",
       "      <th>PassengerId</th>\n",
       "      <th>Pclass</th>\n",
       "      <th>Age</th>\n",
       "      <th>SibSp</th>\n",
       "      <th>Parch</th>\n",
       "      <th>Fare</th>\n",
       "    </tr>\n",
       "    <tr>\n",
       "      <th>Survived</th>\n",
       "      <th>Embarked</th>\n",
       "      <th>Sex</th>\n",
       "      <th></th>\n",
       "      <th></th>\n",
       "      <th></th>\n",
       "      <th></th>\n",
       "      <th></th>\n",
       "      <th></th>\n",
       "    </tr>\n",
       "  </thead>\n",
       "  <tbody>\n",
       "    <tr>\n",
       "      <th rowspan=\"6\" valign=\"top\">0</th>\n",
       "      <th rowspan=\"2\" valign=\"top\">C</th>\n",
       "      <th>female</th>\n",
       "      <td>365.000000</td>\n",
       "      <td>2.777778</td>\n",
       "      <td>25.583333</td>\n",
       "      <td>0.444444</td>\n",
       "      <td>0.555556</td>\n",
       "      <td>16.215278</td>\n",
       "    </tr>\n",
       "    <tr>\n",
       "      <th>male</th>\n",
       "      <td>415.969697</td>\n",
       "      <td>2.121212</td>\n",
       "      <td>34.744444</td>\n",
       "      <td>0.227273</td>\n",
       "      <td>0.212121</td>\n",
       "      <td>38.065342</td>\n",
       "    </tr>\n",
       "    <tr>\n",
       "      <th rowspan=\"2\" valign=\"top\">Q</th>\n",
       "      <th>female</th>\n",
       "      <td>612.444444</td>\n",
       "      <td>3.000000</td>\n",
       "      <td>28.100000</td>\n",
       "      <td>0.111111</td>\n",
       "      <td>0.888889</td>\n",
       "      <td>10.904633</td>\n",
       "    </tr>\n",
       "    <tr>\n",
       "      <th>male</th>\n",
       "      <td>449.131579</td>\n",
       "      <td>2.921053</td>\n",
       "      <td>31.066667</td>\n",
       "      <td>0.605263</td>\n",
       "      <td>0.131579</td>\n",
       "      <td>13.911732</td>\n",
       "    </tr>\n",
       "    <tr>\n",
       "      <th rowspan=\"2\" valign=\"top\">S</th>\n",
       "      <th>female</th>\n",
       "      <td>419.460317</td>\n",
       "      <td>2.841270</td>\n",
       "      <td>24.698113</td>\n",
       "      <td>1.476190</td>\n",
       "      <td>1.126984</td>\n",
       "      <td>25.728508</td>\n",
       "    </tr>\n",
       "    <tr>\n",
       "      <th>male</th>\n",
       "      <td>455.131868</td>\n",
       "      <td>2.494505</td>\n",
       "      <td>31.176667</td>\n",
       "      <td>0.461538</td>\n",
       "      <td>0.214286</td>\n",
       "      <td>19.881281</td>\n",
       "    </tr>\n",
       "    <tr>\n",
       "      <th rowspan=\"6\" valign=\"top\">1</th>\n",
       "      <th rowspan=\"2\" valign=\"top\">C</th>\n",
       "      <th>female</th>\n",
       "      <td>447.484375</td>\n",
       "      <td>1.578125</td>\n",
       "      <td>28.645455</td>\n",
       "      <td>0.562500</td>\n",
       "      <td>0.484375</td>\n",
       "      <td>83.460286</td>\n",
       "    </tr>\n",
       "    <tr>\n",
       "      <th>male</th>\n",
       "      <td>532.482759</td>\n",
       "      <td>1.758621</td>\n",
       "      <td>29.725833</td>\n",
       "      <td>0.344828</td>\n",
       "      <td>0.379310</td>\n",
       "      <td>71.468545</td>\n",
       "    </tr>\n",
       "    <tr>\n",
       "      <th rowspan=\"2\" valign=\"top\">Q</th>\n",
       "      <th>female</th>\n",
       "      <td>294.703704</td>\n",
       "      <td>2.851852</td>\n",
       "      <td>21.571429</td>\n",
       "      <td>0.259259</td>\n",
       "      <td>0.000000</td>\n",
       "      <td>13.211733</td>\n",
       "    </tr>\n",
       "    <tr>\n",
       "      <th>male</th>\n",
       "      <td>547.333333</td>\n",
       "      <td>3.000000</td>\n",
       "      <td>29.000000</td>\n",
       "      <td>0.666667</td>\n",
       "      <td>0.000000</td>\n",
       "      <td>12.916667</td>\n",
       "    </tr>\n",
       "    <tr>\n",
       "      <th rowspan=\"2\" valign=\"top\">S</th>\n",
       "      <th>female</th>\n",
       "      <td>447.371429</td>\n",
       "      <td>1.907143</td>\n",
       "      <td>28.996241</td>\n",
       "      <td>0.550000</td>\n",
       "      <td>0.635714</td>\n",
       "      <td>44.596518</td>\n",
       "    </tr>\n",
       "    <tr>\n",
       "      <th>male</th>\n",
       "      <td>451.558442</td>\n",
       "      <td>2.077922</td>\n",
       "      <td>26.386029</td>\n",
       "      <td>0.389610</td>\n",
       "      <td>0.363636</td>\n",
       "      <td>30.366286</td>\n",
       "    </tr>\n",
       "  </tbody>\n",
       "</table>\n",
       "</div>"
      ],
      "text/plain": [
       "                          PassengerId    Pclass        Age     SibSp  \\\n",
       "Survived Embarked Sex                                                  \n",
       "0        C        female   365.000000  2.777778  25.583333  0.444444   \n",
       "                  male     415.969697  2.121212  34.744444  0.227273   \n",
       "         Q        female   612.444444  3.000000  28.100000  0.111111   \n",
       "                  male     449.131579  2.921053  31.066667  0.605263   \n",
       "         S        female   419.460317  2.841270  24.698113  1.476190   \n",
       "                  male     455.131868  2.494505  31.176667  0.461538   \n",
       "1        C        female   447.484375  1.578125  28.645455  0.562500   \n",
       "                  male     532.482759  1.758621  29.725833  0.344828   \n",
       "         Q        female   294.703704  2.851852  21.571429  0.259259   \n",
       "                  male     547.333333  3.000000  29.000000  0.666667   \n",
       "         S        female   447.371429  1.907143  28.996241  0.550000   \n",
       "                  male     451.558442  2.077922  26.386029  0.389610   \n",
       "\n",
       "                             Parch       Fare  \n",
       "Survived Embarked Sex                          \n",
       "0        C        female  0.555556  16.215278  \n",
       "                  male    0.212121  38.065342  \n",
       "         Q        female  0.888889  10.904633  \n",
       "                  male    0.131579  13.911732  \n",
       "         S        female  1.126984  25.728508  \n",
       "                  male    0.214286  19.881281  \n",
       "1        C        female  0.484375  83.460286  \n",
       "                  male    0.379310  71.468545  \n",
       "         Q        female  0.000000  13.211733  \n",
       "                  male    0.000000  12.916667  \n",
       "         S        female  0.635714  44.596518  \n",
       "                  male    0.363636  30.366286  "
      ]
     },
     "execution_count": 17,
     "metadata": {},
     "output_type": "execute_result"
    }
   ],
   "source": [
    "data.groupby(['Survived','Embarked', 'Sex']).mean()"
   ]
  },
  {
   "cell_type": "code",
   "execution_count": null,
   "metadata": {
    "collapsed": true
   },
   "outputs": [],
   "source": []
  }
 ],
 "metadata": {
  "kernelspec": {
   "display_name": "Python 2",
   "language": "python",
   "name": "python2"
  },
  "language_info": {
   "codemirror_mode": {
    "name": "ipython",
    "version": 2
   },
   "file_extension": ".py",
   "mimetype": "text/x-python",
   "name": "python",
   "nbconvert_exporter": "python",
   "pygments_lexer": "ipython2",
   "version": "2.7.11"
  }
 },
 "nbformat": 4,
 "nbformat_minor": 0
}
